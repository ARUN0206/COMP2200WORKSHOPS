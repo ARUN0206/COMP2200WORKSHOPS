{
  "cells": [
    {
      "cell_type": "markdown",
      "metadata": {
        "id": "view-in-github",
        "colab_type": "text"
      },
      "source": [
        "<a href=\"https://colab.research.google.com/github/ARUN0206/COMP2200WORKSHOPS/blob/main/Workshop_Week_2.ipynb\" target=\"_parent\"><img src=\"https://colab.research.google.com/assets/colab-badge.svg\" alt=\"Open In Colab\"/></a>"
      ]
    },
    {
      "cell_type": "markdown",
      "metadata": {
        "id": "GugwQuUDrrqj"
      },
      "source": [
        "The goal this week is to pratice using Markdown to write descriptive text in notebooks and then look at Python data structures including the pandas module that supports data structures designed for handling the kind of data we'll be working with.  \n",
        "\n",
        "There is probably too much work to complete here in the workshop session, but please use this notebook after the workshop to practice your Python.  Remember to commit your changes to git as you go and push back to Github when you are done."
      ]
    },
    {
      "cell_type": "code",
      "execution_count": null,
      "metadata": {
        "id": "kNpFP4zvrrqm"
      },
      "outputs": [],
      "source": [
        "student_name = \"ARUN KUMAR RAJA\"\n",
        "student_id = \"47756276\""
      ]
    },
    {
      "cell_type": "markdown",
      "metadata": {
        "id": "G9dlATNnrrqn"
      },
      "source": [
        "## Markdown Practice\n",
        "\n",
        "Complete this section as per the instructions in the iLearn practical page.  Add the required cells below this one."
      ]
    },
    {
      "cell_type": "markdown",
      "metadata": {
        "id": "EhWS7BITrrqo"
      },
      "source": [
        "# Data Science\n",
        "## Week 1\n",
        "### Basic Concept of Github\n",
        "#### Clone Repository"
      ]
    },
    {
      "cell_type": "markdown",
      "metadata": {
        "id": "Tv_HRctHrrqo"
      },
      "source": [
        "# Emphasis\n",
        "- *This will be an italic text*\n",
        "- _ This will also be an italic text_\n",
        "- **This will be bold text**\n",
        "- *This will be italic and  **bold** text*\n",
        ". text"
      ]
    },
    {
      "cell_type": "markdown",
      "metadata": {
        "id": "1sUA2YSfrrqp"
      },
      "source": [
        "# Ordered List\n",
        "1.Item 1\n",
        "2.Item 2\n",
        "3.Item 3\n",
        "6.Item 4\n",
        "8.Item 5"
      ]
    },
    {
      "cell_type": "markdown",
      "metadata": {
        "id": "yWckFe16rrqp"
      },
      "source": [
        "<img src=\"files\\Git-Logo-2Color.png\" title=\"Github Logo\" width= \"150\" height= \"100\">"
      ]
    },
    {
      "cell_type": "markdown",
      "metadata": {
        "id": "Jgr2LCg3rrqp"
      },
      "source": [
        "# Task List\n",
        "\n",
        "- [x] Install Python\n",
        "- [x] Create Github Repository\n",
        "- [x] Clone Repository\n",
        "- [ ] Read Week 2 Lect"
      ]
    },
    {
      "cell_type": "markdown",
      "metadata": {
        "id": "Z3ro97G3rrqq"
      },
      "source": [
        "# Equations\n",
        "$x^{2} + y^{2}$\n",
        "\n",
        "$H_{2}O$\n",
        "\n",
        "$\\sqrt{x^{2} + y^{2}}$"
      ]
    },
    {
      "cell_type": "markdown",
      "metadata": {
        "id": "DIKoG6VDrrqq"
      },
      "source": [
        "## Lists and Dictionaries\n",
        "\n",
        "First we look at some built in Python data structures: lists and dictionaries.\n",
        "\n",
        "A list is a sequence of things, unlike strongly typed languages (Java, C#) a list can contain a mixture of different types - there is no type for a list of integers or a list of lists.   Here are some lists:"
      ]
    },
    {
      "cell_type": "code",
      "execution_count": null,
      "metadata": {
        "id": "3yAnIjgmrrqq"
      },
      "outputs": [],
      "source": []
    },
    {
      "cell_type": "code",
      "execution_count": null,
      "metadata": {
        "id": "gWPGMdYzrrqq"
      },
      "outputs": [],
      "source": [
        "ages = [12, 99, 51, 3, 55]\n",
        "names = ['steve', 'jim', 'mary', 'carrie', 'zin']\n",
        "stuff = [12, 'eighteen', 6, ['another', 'list']]"
      ]
    },
    {
      "cell_type": "code",
      "execution_count": null,
      "metadata": {
        "colab": {
          "base_uri": "https://localhost:8080/"
        },
        "id": "zDqWZRMnrrqr",
        "outputId": "46800b26-b725-4bb6-d774-dc262d479436"
      },
      "outputs": [
        {
          "output_type": "execute_result",
          "data": {
            "text/plain": [
              "55"
            ]
          },
          "metadata": {},
          "execution_count": 3
        }
      ],
      "source": [
        "ages[-1]"
      ]
    },
    {
      "cell_type": "code",
      "execution_count": null,
      "metadata": {
        "colab": {
          "base_uri": "https://localhost:8080/"
        },
        "id": "QJ2vowmArrqr",
        "outputId": "1636a178-fd38-4ec6-9e7b-874488118a52"
      },
      "outputs": [
        {
          "output_type": "execute_result",
          "data": {
            "text/plain": [
              "4"
            ]
          },
          "metadata": {},
          "execution_count": 4
        }
      ],
      "source": [
        "len(stuff)"
      ]
    },
    {
      "cell_type": "code",
      "execution_count": null,
      "metadata": {
        "colab": {
          "base_uri": "https://localhost:8080/",
          "height": 35
        },
        "id": "-7adwuWgrrqr",
        "outputId": "effa4102-5eff-40e4-9e8a-7d73073683f2"
      },
      "outputs": [
        {
          "output_type": "execute_result",
          "data": {
            "text/plain": [
              "'another'"
            ],
            "application/vnd.google.colaboratory.intrinsic+json": {
              "type": "string"
            }
          },
          "metadata": {},
          "execution_count": 5
        }
      ],
      "source": [
        "stuff[3][0]"
      ]
    },
    {
      "cell_type": "markdown",
      "metadata": {
        "id": "-ORzyCHHrrqs"
      },
      "source": [
        "1. write code to print the first and third elements of each list\n",
        "2. write code to select and print everything except the first element of each list\n",
        "3. write a for loop that prints each element of the 'names' list"
      ]
    },
    {
      "cell_type": "code",
      "execution_count": null,
      "metadata": {
        "colab": {
          "base_uri": "https://localhost:8080/"
        },
        "id": "RaYJEP4Orrqs",
        "outputId": "aba7cf3e-577f-4ee9-ef6c-307f1d91f6d9"
      },
      "outputs": [
        {
          "output_type": "stream",
          "name": "stdout",
          "text": [
            "12 51\n",
            "steve mary\n",
            "12 6\n"
          ]
        }
      ],
      "source": [
        "# write code to print the first and third elements of each list\n",
        "ages[0], ages[2]\n",
        "names[0], names[2]\n",
        "stuff[0], stuff[2]\n",
        "print(ages[0], ages[2])\n",
        "print(names[0], names[2])\n",
        "print(stuff[0], stuff[2])"
      ]
    },
    {
      "cell_type": "code",
      "execution_count": null,
      "metadata": {
        "colab": {
          "base_uri": "https://localhost:8080/"
        },
        "id": "s7bQ6qT5rrqs",
        "outputId": "5e9cdaa2-766d-4931-94cf-2ae13fb72e01"
      },
      "outputs": [
        {
          "output_type": "stream",
          "name": "stdout",
          "text": [
            "[99, 51, 3, 55]\n",
            "['jim', 'mary', 'carrie', 'zin']\n",
            "['eighteen', 6, ['another', 'list']]\n"
          ]
        }
      ],
      "source": [
        "#write code to select and print everything except the first element of each list\n",
        "print(ages[1:])\n",
        "print(names[1:])\n",
        "print(stuff[1:])"
      ]
    },
    {
      "cell_type": "code",
      "execution_count": null,
      "metadata": {
        "colab": {
          "base_uri": "https://localhost:8080/"
        },
        "id": "tCFDhEcHrrqs",
        "outputId": "8abfa0ef-4a84-4d46-c1de-113f74b01732"
      },
      "outputs": [
        {
          "output_type": "stream",
          "name": "stdout",
          "text": [
            "steve\n",
            "jim\n",
            "mary\n",
            "carrie\n",
            "zin\n"
          ]
        }
      ],
      "source": [
        "#write a for loop that prints each element of the 'names' list\n",
        "for i in names:\n",
        "    print(i)"
      ]
    },
    {
      "cell_type": "markdown",
      "metadata": {
        "id": "VpvnOzwZrrqs"
      },
      "source": [
        "A dictionary is an associative array - it associates a value (any Python data type) with a key. The key is usually a string but can be any immutable type (string, number, tuple).  Here's some code that counts the occurence of words in a string.  It stores the count for each word in a dictionary using the word as a key. If the word is already stored in the dictionary, it adds one to the count, if not, it initialises the count to one.  \n",
        "\n",
        "The second for loop iterates over the keys in the dictionary and prints one line per entry.\n",
        "\n",
        "Modify this example to be a bit smarter:\n",
        "- make sure that punctuation characters are not included as parts of a word, be careful with hyphens - should they be included or not?\n",
        "- make the count use the lowercase version of a word, so that 'The' and 'the' are counted as the same word\n",
        "- **Challenge**: find the first and second most frequent words in the text\n",
        "- **Challenge**: take your code and write it as a function that takes a string and returns a list of words with their counts in order"
      ]
    },
    {
      "cell_type": "code",
      "execution_count": null,
      "metadata": {
        "id": "ldpCmvP5rrqs"
      },
      "outputs": [],
      "source": [
        "student_dict = {\n",
        "    \"name\": \"Bilal\",\n",
        "    \"email\" : \"bilal@mq.edu.au\",\n",
        "    \"city\" : \"Sydney\"\n",
        "}"
      ]
    },
    {
      "cell_type": "code",
      "execution_count": null,
      "metadata": {
        "colab": {
          "base_uri": "https://localhost:8080/",
          "height": 35
        },
        "id": "bp9ncnclrrqs",
        "outputId": "bdadcc2e-3983-44d9-a76a-0544d1167528"
      },
      "outputs": [
        {
          "output_type": "execute_result",
          "data": {
            "text/plain": [
              "'Sydney'"
            ],
            "application/vnd.google.colaboratory.intrinsic+json": {
              "type": "string"
            }
          },
          "metadata": {},
          "execution_count": 10
        }
      ],
      "source": [
        "student_dict[\"city\"]"
      ]
    },
    {
      "cell_type": "code",
      "execution_count": null,
      "metadata": {
        "colab": {
          "base_uri": "https://localhost:8080/"
        },
        "id": "_wFdM03grrqt",
        "outputId": "a5832776-cc00-4e9a-932d-a8245509f50b"
      },
      "outputs": [
        {
          "output_type": "execute_result",
          "data": {
            "text/plain": [
              "dict_keys(['name', 'email', 'city'])"
            ]
          },
          "metadata": {},
          "execution_count": 11
        }
      ],
      "source": [
        "student_dict.keys()"
      ]
    },
    {
      "cell_type": "code",
      "execution_count": null,
      "metadata": {
        "colab": {
          "base_uri": "https://localhost:8080/"
        },
        "id": "7iluI8Tdrrqt",
        "outputId": "7415603d-6208-4ff9-c5e3-9e5c82fcd983"
      },
      "outputs": [
        {
          "output_type": "execute_result",
          "data": {
            "text/plain": [
              "dict_values(['Bilal', 'bilal@mq.edu.au', 'Sydney'])"
            ]
          },
          "metadata": {},
          "execution_count": 12
        }
      ],
      "source": [
        "student_dict.values()"
      ]
    },
    {
      "cell_type": "code",
      "execution_count": null,
      "metadata": {
        "colab": {
          "base_uri": "https://localhost:8080/"
        },
        "id": "dbDyxqmXrrqt",
        "outputId": "e08b1faf-da13-4eed-d452-2ee1276c5d44"
      },
      "outputs": [
        {
          "output_type": "execute_result",
          "data": {
            "text/plain": [
              "dict_values(['Bilal', 'bilal@mq.edu.au', 'Sydney'])"
            ]
          },
          "metadata": {},
          "execution_count": 13
        }
      ],
      "source": [
        "student_dict.values()"
      ]
    },
    {
      "cell_type": "code",
      "execution_count": null,
      "metadata": {
        "colab": {
          "base_uri": "https://localhost:8080/"
        },
        "id": "tfW5BqVcrrqt",
        "outputId": "fb2d3f30-c84c-458e-e672-a3badfa3d9f9"
      },
      "outputs": [
        {
          "output_type": "stream",
          "name": "stdout",
          "text": [
            "This 1\n",
            "unit 3\n",
            "introduces 1\n",
            "students 1\n",
            "to 4\n",
            "the 5\n",
            "fundamental 1\n",
            "techniques 1\n",
            "and 3\n",
            "tools 2\n",
            "of 3\n",
            "data 5\n",
            "science, 1\n",
            "such 1\n",
            "as 1\n",
            "graphical 1\n",
            "display 1\n",
            "data, 1\n",
            "predictive 1\n",
            "models, 1\n",
            "evaluation 1\n",
            "methodologies, 1\n",
            "regression, 1\n",
            "classification 1\n",
            "clustering. 1\n",
            "The 1\n",
            "provides 1\n",
            "practical 1\n",
            "experience 1\n",
            "applying 1\n",
            "these 2\n",
            "methods 3\n",
            "using 1\n",
            "industry-standard 1\n",
            "software 1\n",
            "real-world 2\n",
            "sets. 1\n",
            "Students 1\n",
            "who 1\n",
            "have 2\n",
            "completed 1\n",
            "this 1\n",
            "will 1\n",
            "be 1\n",
            "able 1\n",
            "identify 1\n",
            "which 1\n",
            "science 1\n",
            "are 1\n",
            "most 1\n",
            "appropriate 1\n",
            "for 1\n",
            "a 1\n",
            "set, 2\n",
            "apply 1\n",
            "interpret 1\n",
            "results 1\n",
            "analysis 1\n",
            "they 1\n",
            "performed. 1\n"
          ]
        }
      ],
      "source": [
        "description = \"\"\"This unit introduces students to the fundamental techniques and\n",
        "tools of data science, such as the graphical display of data,\n",
        "predictive models, evaluation methodologies, regression,\n",
        "classification and clustering. The unit provides practical\n",
        "experience applying these methods using industry-standard\n",
        "software tools to real-world data sets. Students who have\n",
        "completed this unit will be able to identify which data\n",
        "science methods are most appropriate for a real-world data\n",
        "set, apply these methods to the data set, and interpret the\n",
        "results of the analysis they have performed. \"\"\"\n",
        "\n",
        "count = dict()\n",
        "for word in description.split():\n",
        "    if word in count:\n",
        "        count[word] += 1\n",
        "    else:\n",
        "        count[word] = 1\n",
        "\n",
        "for word in count:\n",
        "    print(word, count[word])"
      ]
    },
    {
      "cell_type": "code",
      "source": [],
      "metadata": {
        "id": "HP-RCUwqSbV-"
      },
      "execution_count": null,
      "outputs": []
    },
    {
      "cell_type": "code",
      "execution_count": null,
      "metadata": {
        "id": "zizWTnT2rrqt"
      },
      "outputs": [],
      "source": [
        "description = \"\"\"This unit introduces students to the fundamental techniques and\n",
        "tools of data science, such as the graphical display of data,\n",
        "predictive models, evaluation methodologies, regression,\n",
        "classification and clustering. The unit provides practical\n",
        "experience applying these methods using industry-standard\n",
        "software tools to real-world data sets. Students who have\n",
        "completed this unit will be able to identify which data\n",
        "science methods are most appropriate for a real-world data\n",
        "set, apply these methods to the data set, and interpret the\n",
        "results of the analysis they have performed. \"\"\""
      ]
    },
    {
      "cell_type": "code",
      "execution_count": null,
      "metadata": {
        "colab": {
          "base_uri": "https://localhost:8080/"
        },
        "id": "OWVzOjSErrqt",
        "outputId": "9e1e8bbf-355f-4f32-8059-e1d328cb7308"
      },
      "outputs": [
        {
          "output_type": "stream",
          "name": "stdout",
          "text": [
            "This\n",
            "unit\n",
            "introduces\n",
            "students\n",
            "to\n",
            "the\n",
            "fundamental\n",
            "techniques\n",
            "and\n",
            "tools\n",
            "of\n",
            "data\n",
            "science,\n",
            "such\n",
            "as\n",
            "the\n",
            "graphical\n",
            "display\n",
            "of\n",
            "data,\n",
            "predictive\n",
            "models,\n",
            "evaluation\n",
            "methodologies,\n",
            "regression,\n",
            "classification\n",
            "and\n",
            "clustering.\n",
            "The\n",
            "unit\n",
            "provides\n",
            "practical\n",
            "experience\n",
            "applying\n",
            "these\n",
            "methods\n",
            "using\n",
            "industry-standard\n",
            "software\n",
            "tools\n",
            "to\n",
            "real-world\n",
            "data\n",
            "sets.\n",
            "Students\n",
            "who\n",
            "have\n",
            "completed\n",
            "this\n",
            "unit\n",
            "will\n",
            "be\n",
            "able\n",
            "to\n",
            "identify\n",
            "which\n",
            "data\n",
            "science\n",
            "methods\n",
            "are\n",
            "most\n",
            "appropriate\n",
            "for\n",
            "a\n",
            "real-world\n",
            "data\n",
            "set,\n",
            "apply\n",
            "these\n",
            "methods\n",
            "to\n",
            "the\n",
            "data\n",
            "set,\n",
            "and\n",
            "interpret\n",
            "the\n",
            "results\n",
            "of\n",
            "the\n",
            "analysis\n",
            "they\n",
            "have\n",
            "performed.\n"
          ]
        }
      ],
      "source": [
        "for w in description.split():\n",
        "    print(w)"
      ]
    },
    {
      "cell_type": "code",
      "execution_count": null,
      "metadata": {
        "colab": {
          "base_uri": "https://localhost:8080/"
        },
        "id": "Ol2GqEjxrrqt",
        "outputId": "6303c527-3157-46f6-9d80-8d24e5dc3698"
      },
      "outputs": [
        {
          "output_type": "stream",
          "name": "stdout",
          "text": [
            "This unit introduces students to the fundamental techniques and\n",
            "tools of data science such as the graphical display of data\n",
            "predictive models evaluation methodologies regression\n",
            "classification and clustering The unit provides practical\n",
            "experience applying these methods using industry-standard\n",
            "software tools to real-world data sets Students who have\n",
            "completed this unit will be able to identify which data\n",
            "science methods are most appropriate for a real-world data\n",
            "set apply these methods to the data set and interpret the\n",
            "results of the analysis they have performed \n"
          ]
        }
      ],
      "source": [
        "import re\n",
        "desc = re.sub(r'[@#$%^&*(),.]', '', description)\n",
        "print(desc)"
      ]
    },
    {
      "cell_type": "code",
      "execution_count": null,
      "metadata": {
        "colab": {
          "base_uri": "https://localhost:8080/"
        },
        "id": "iJKXtbflrrqu",
        "outputId": "169c29b9-3da8-46b5-95bb-7c4bffbf4654"
      },
      "outputs": [
        {
          "output_type": "stream",
          "name": "stdout",
          "text": [
            "this 2\n",
            "unit 3\n",
            "introduces 1\n",
            "students 2\n",
            "to 4\n",
            "the 6\n",
            "fundamental 1\n",
            "techniques 1\n",
            "and 3\n",
            "tools 2\n",
            "of 3\n",
            "data 6\n",
            "science 2\n",
            "such 1\n",
            "as 1\n",
            "graphical 1\n",
            "display 1\n",
            "predictive 1\n",
            "models 1\n",
            "evaluation 1\n",
            "methodologies 1\n",
            "regression 1\n",
            "classification 1\n",
            "clustering 1\n",
            "provides 1\n",
            "practical 1\n",
            "experience 1\n",
            "applying 1\n",
            "these 2\n",
            "methods 3\n",
            "using 1\n",
            "industry-standard 1\n",
            "software 1\n",
            "real-world 2\n",
            "sets 1\n",
            "who 1\n",
            "have 2\n",
            "completed 1\n",
            "will 1\n",
            "be 1\n",
            "able 1\n",
            "identify 1\n",
            "which 1\n",
            "are 1\n",
            "most 1\n",
            "appropriate 1\n",
            "for 1\n",
            "a 1\n",
            "set 2\n",
            "apply 1\n",
            "interpret 1\n",
            "results 1\n",
            "analysis 1\n",
            "they 1\n",
            "performed 1\n"
          ]
        }
      ],
      "source": [
        "desc = desc.lower()\n",
        "count = dict()\n",
        "for word in desc.split():\n",
        "    if word in count:\n",
        "        count[word]+= 1\n",
        "    else:\n",
        "        count[word]= 1\n",
        "\n",
        "for word in count:\n",
        "     print(word,count[word])"
      ]
    },
    {
      "cell_type": "markdown",
      "metadata": {
        "id": "fnrwaCJcrrqu"
      },
      "source": [
        "## Pandas Data Frames\n",
        "\n",
        "[Pandas](https://pandas.pydata.org) is a Python module that provides some important data structures for Data Science work and a large collection of methods for data analysis.\n",
        "\n",
        "The two main data structures are the [Series]() and [DataFrame](http://pandas.pydata.org/pandas-docs/stable/dsintro.html#dataframe).  \n",
        "\n",
        "A Series is a one dimensional array of data, but unlike the Python list the data is indexed - the index is like the dictionary key, any immutable value like a number or string.  You can use the label to select elements from the series as well as positional values.  \n",
        "\n",
        "A DataFrame is analogous to a spreadsheet - a two dimensional table of data with indexed rows and named columns.\n",
        "\n",
        "You should read up on these and follow the examples in the text.  Here are a few exercises to complete with data frames."
      ]
    },
    {
      "cell_type": "markdown",
      "metadata": {
        "id": "nRPnfgLarrqu"
      },
      "source": [
        "You are given three csv files containing sample data."
      ]
    },
    {
      "cell_type": "code",
      "execution_count": null,
      "metadata": {
        "id": "U5824hYlrrqu"
      },
      "outputs": [],
      "source": [
        "import pandas as pd\n",
        "import numpy as np\n",
        "import matplotlib.pyplot as plt\n",
        "%matplotlib inline\n",
        "\n",
        "ds1 = '/Users/arunkumarraja/Documents/data'\n",
        "ds2 = '/Users/arunkumarraja/Documents/data'\n",
        "ds3 = '/Users/arunkumarraja/Documents/data'"
      ]
    },
    {
      "cell_type": "markdown",
      "metadata": {
        "id": "YqM3QyL5rrqu"
      },
      "source": [
        "Write code below to read one of these data files into a pandas data frame and:\n",
        "- show the first few rows: .head\n",
        "- find the summary data for each column: .describe\n",
        "- select just those rows where the value of x and y is over 50\n",
        "- select the column 'x' and create a series\n",
        "- plot the 'x' series as a line graph\n",
        "- plot the dataframe as a scatterplot\n",
        "\n",
        "Once you have the code for this, you can change the file you use for input of the data (ds2, ds3) and re-run the following cells to see the different output that is generated"
      ]
    },
    {
      "cell_type": "code",
      "execution_count": null,
      "metadata": {
        "id": "Unb1RNImrrqu",
        "outputId": "981b3fdb-0c2a-46b5-cd00-3fe30fd8286f"
      },
      "outputs": [
        {
          "data": {
            "text/plain": [
              "(142, 2)"
            ]
          },
          "execution_count": 52,
          "metadata": {},
          "output_type": "execute_result"
        }
      ],
      "source": [
        "df1.shape"
      ]
    },
    {
      "cell_type": "code",
      "execution_count": null,
      "metadata": {
        "id": "-v_gtqkarrqu",
        "outputId": "9120ffbe-65f7-49f0-dcf1-72af2c421891"
      },
      "outputs": [
        {
          "data": {
            "text/html": [
              "<div>\n",
              "<style scoped>\n",
              "    .dataframe tbody tr th:only-of-type {\n",
              "        vertical-align: middle;\n",
              "    }\n",
              "\n",
              "    .dataframe tbody tr th {\n",
              "        vertical-align: top;\n",
              "    }\n",
              "\n",
              "    .dataframe thead th {\n",
              "        text-align: right;\n",
              "    }\n",
              "</style>\n",
              "<table border=\"1\" class=\"dataframe\">\n",
              "  <thead>\n",
              "    <tr style=\"text-align: right;\">\n",
              "      <th></th>\n",
              "      <th>x</th>\n",
              "      <th>y</th>\n",
              "    </tr>\n",
              "  </thead>\n",
              "  <tbody>\n",
              "    <tr>\n",
              "      <th>count</th>\n",
              "      <td>142.000000</td>\n",
              "      <td>142.000000</td>\n",
              "    </tr>\n",
              "    <tr>\n",
              "      <th>mean</th>\n",
              "      <td>54.263273</td>\n",
              "      <td>47.832253</td>\n",
              "    </tr>\n",
              "    <tr>\n",
              "      <th>std</th>\n",
              "      <td>16.765142</td>\n",
              "      <td>26.935403</td>\n",
              "    </tr>\n",
              "    <tr>\n",
              "      <th>min</th>\n",
              "      <td>22.307700</td>\n",
              "      <td>2.948700</td>\n",
              "    </tr>\n",
              "    <tr>\n",
              "      <th>25%</th>\n",
              "      <td>44.102600</td>\n",
              "      <td>25.288450</td>\n",
              "    </tr>\n",
              "    <tr>\n",
              "      <th>50%</th>\n",
              "      <td>53.333300</td>\n",
              "      <td>46.025600</td>\n",
              "    </tr>\n",
              "    <tr>\n",
              "      <th>75%</th>\n",
              "      <td>64.743600</td>\n",
              "      <td>68.525675</td>\n",
              "    </tr>\n",
              "    <tr>\n",
              "      <th>max</th>\n",
              "      <td>98.205100</td>\n",
              "      <td>99.487200</td>\n",
              "    </tr>\n",
              "  </tbody>\n",
              "</table>\n",
              "</div>"
            ],
            "text/plain": [
              "                x           y\n",
              "count  142.000000  142.000000\n",
              "mean    54.263273   47.832253\n",
              "std     16.765142   26.935403\n",
              "min     22.307700    2.948700\n",
              "25%     44.102600   25.288450\n",
              "50%     53.333300   46.025600\n",
              "75%     64.743600   68.525675\n",
              "max     98.205100   99.487200"
            ]
          },
          "execution_count": 53,
          "metadata": {},
          "output_type": "execute_result"
        }
      ],
      "source": [
        "df1.describe()"
      ]
    },
    {
      "cell_type": "code",
      "execution_count": null,
      "metadata": {
        "id": "rSFFRAZhrrqu",
        "outputId": "5c72a8f0-b294-4976-fb29-113510c2eac4"
      },
      "outputs": [
        {
          "data": {
            "text/plain": [
              "(33, 2)"
            ]
          },
          "execution_count": 56,
          "metadata": {},
          "output_type": "execute_result"
        }
      ],
      "source": [
        "x50 = df1['x']>50\n",
        "y50 = df1['y'] > 50\n",
        "new_df = df1[x50 & y50]\n",
        "new_df.shape"
      ]
    },
    {
      "cell_type": "code",
      "execution_count": null,
      "metadata": {
        "id": "y3-L3fAlrrq0",
        "outputId": "7feed739-4664-4128-c976-5347b3bf3215"
      },
      "outputs": [
        {
          "data": {
            "text/html": [
              "<div>\n",
              "<style scoped>\n",
              "    .dataframe tbody tr th:only-of-type {\n",
              "        vertical-align: middle;\n",
              "    }\n",
              "\n",
              "    .dataframe tbody tr th {\n",
              "        vertical-align: top;\n",
              "    }\n",
              "\n",
              "    .dataframe thead th {\n",
              "        text-align: right;\n",
              "    }\n",
              "</style>\n",
              "<table border=\"1\" class=\"dataframe\">\n",
              "  <thead>\n",
              "    <tr style=\"text-align: right;\">\n",
              "      <th></th>\n",
              "      <th>x</th>\n",
              "      <th>y</th>\n",
              "    </tr>\n",
              "  </thead>\n",
              "  <tbody>\n",
              "    <tr>\n",
              "      <th>0</th>\n",
              "      <td>55.3846</td>\n",
              "      <td>97.1795</td>\n",
              "    </tr>\n",
              "    <tr>\n",
              "      <th>1</th>\n",
              "      <td>51.5385</td>\n",
              "      <td>96.0256</td>\n",
              "    </tr>\n",
              "    <tr>\n",
              "      <th>22</th>\n",
              "      <td>53.0769</td>\n",
              "      <td>55.6410</td>\n",
              "    </tr>\n",
              "    <tr>\n",
              "      <th>23</th>\n",
              "      <td>56.6667</td>\n",
              "      <td>56.0256</td>\n",
              "    </tr>\n",
              "    <tr>\n",
              "      <th>24</th>\n",
              "      <td>59.2308</td>\n",
              "      <td>57.9487</td>\n",
              "    </tr>\n",
              "    <tr>\n",
              "      <th>25</th>\n",
              "      <td>61.2821</td>\n",
              "      <td>62.1795</td>\n",
              "    </tr>\n",
              "    <tr>\n",
              "      <th>26</th>\n",
              "      <td>61.5385</td>\n",
              "      <td>66.4103</td>\n",
              "    </tr>\n",
              "    <tr>\n",
              "      <th>27</th>\n",
              "      <td>61.7949</td>\n",
              "      <td>69.1026</td>\n",
              "    </tr>\n",
              "    <tr>\n",
              "      <th>28</th>\n",
              "      <td>57.4359</td>\n",
              "      <td>55.2564</td>\n",
              "    </tr>\n",
              "    <tr>\n",
              "      <th>60</th>\n",
              "      <td>70.5128</td>\n",
              "      <td>53.7180</td>\n",
              "    </tr>\n",
              "    <tr>\n",
              "      <th>61</th>\n",
              "      <td>71.5385</td>\n",
              "      <td>60.6410</td>\n",
              "    </tr>\n",
              "    <tr>\n",
              "      <th>62</th>\n",
              "      <td>71.5385</td>\n",
              "      <td>64.4872</td>\n",
              "    </tr>\n",
              "    <tr>\n",
              "      <th>63</th>\n",
              "      <td>69.4872</td>\n",
              "      <td>69.4872</td>\n",
              "    </tr>\n",
              "    <tr>\n",
              "      <th>67</th>\n",
              "      <td>53.0769</td>\n",
              "      <td>85.2564</td>\n",
              "    </tr>\n",
              "    <tr>\n",
              "      <th>68</th>\n",
              "      <td>55.3846</td>\n",
              "      <td>86.0256</td>\n",
              "    </tr>\n",
              "    <tr>\n",
              "      <th>69</th>\n",
              "      <td>56.6667</td>\n",
              "      <td>86.0256</td>\n",
              "    </tr>\n",
              "    <tr>\n",
              "      <th>70</th>\n",
              "      <td>56.1538</td>\n",
              "      <td>82.9487</td>\n",
              "    </tr>\n",
              "    <tr>\n",
              "      <th>71</th>\n",
              "      <td>53.8462</td>\n",
              "      <td>80.6410</td>\n",
              "    </tr>\n",
              "    <tr>\n",
              "      <th>72</th>\n",
              "      <td>51.2821</td>\n",
              "      <td>78.7180</td>\n",
              "    </tr>\n",
              "    <tr>\n",
              "      <th>78</th>\n",
              "      <td>57.9487</td>\n",
              "      <td>99.4872</td>\n",
              "    </tr>\n",
              "    <tr>\n",
              "      <th>79</th>\n",
              "      <td>61.7949</td>\n",
              "      <td>99.1026</td>\n",
              "    </tr>\n",
              "    <tr>\n",
              "      <th>80</th>\n",
              "      <td>64.8718</td>\n",
              "      <td>97.5641</td>\n",
              "    </tr>\n",
              "    <tr>\n",
              "      <th>81</th>\n",
              "      <td>68.4615</td>\n",
              "      <td>94.1026</td>\n",
              "    </tr>\n",
              "    <tr>\n",
              "      <th>82</th>\n",
              "      <td>70.7692</td>\n",
              "      <td>91.0256</td>\n",
              "    </tr>\n",
              "    <tr>\n",
              "      <th>83</th>\n",
              "      <td>72.0513</td>\n",
              "      <td>86.4103</td>\n",
              "    </tr>\n",
              "    <tr>\n",
              "      <th>84</th>\n",
              "      <td>73.8462</td>\n",
              "      <td>83.3333</td>\n",
              "    </tr>\n",
              "    <tr>\n",
              "      <th>85</th>\n",
              "      <td>75.1282</td>\n",
              "      <td>79.1026</td>\n",
              "    </tr>\n",
              "    <tr>\n",
              "      <th>86</th>\n",
              "      <td>76.6667</td>\n",
              "      <td>75.2564</td>\n",
              "    </tr>\n",
              "    <tr>\n",
              "      <th>87</th>\n",
              "      <td>77.6923</td>\n",
              "      <td>71.4103</td>\n",
              "    </tr>\n",
              "    <tr>\n",
              "      <th>88</th>\n",
              "      <td>79.7436</td>\n",
              "      <td>66.7949</td>\n",
              "    </tr>\n",
              "    <tr>\n",
              "      <th>89</th>\n",
              "      <td>81.7949</td>\n",
              "      <td>60.2564</td>\n",
              "    </tr>\n",
              "    <tr>\n",
              "      <th>90</th>\n",
              "      <td>83.3333</td>\n",
              "      <td>55.2564</td>\n",
              "    </tr>\n",
              "    <tr>\n",
              "      <th>91</th>\n",
              "      <td>85.1282</td>\n",
              "      <td>51.4103</td>\n",
              "    </tr>\n",
              "  </tbody>\n",
              "</table>\n",
              "</div>"
            ],
            "text/plain": [
              "          x        y\n",
              "0   55.3846  97.1795\n",
              "1   51.5385  96.0256\n",
              "22  53.0769  55.6410\n",
              "23  56.6667  56.0256\n",
              "24  59.2308  57.9487\n",
              "25  61.2821  62.1795\n",
              "26  61.5385  66.4103\n",
              "27  61.7949  69.1026\n",
              "28  57.4359  55.2564\n",
              "60  70.5128  53.7180\n",
              "61  71.5385  60.6410\n",
              "62  71.5385  64.4872\n",
              "63  69.4872  69.4872\n",
              "67  53.0769  85.2564\n",
              "68  55.3846  86.0256\n",
              "69  56.6667  86.0256\n",
              "70  56.1538  82.9487\n",
              "71  53.8462  80.6410\n",
              "72  51.2821  78.7180\n",
              "78  57.9487  99.4872\n",
              "79  61.7949  99.1026\n",
              "80  64.8718  97.5641\n",
              "81  68.4615  94.1026\n",
              "82  70.7692  91.0256\n",
              "83  72.0513  86.4103\n",
              "84  73.8462  83.3333\n",
              "85  75.1282  79.1026\n",
              "86  76.6667  75.2564\n",
              "87  77.6923  71.4103\n",
              "88  79.7436  66.7949\n",
              "89  81.7949  60.2564\n",
              "90  83.3333  55.2564\n",
              "91  85.1282  51.4103"
            ]
          },
          "execution_count": 57,
          "metadata": {},
          "output_type": "execute_result"
        }
      ],
      "source": [
        "new_df"
      ]
    },
    {
      "cell_type": "code",
      "execution_count": null,
      "metadata": {
        "id": "7Sk2Dl_4rrq0",
        "outputId": "681fe570-e5a9-4961-a885-d940339ba084"
      },
      "outputs": [
        {
          "data": {
            "text/plain": [
              "<Axes: >"
            ]
          },
          "execution_count": 59,
          "metadata": {},
          "output_type": "execute_result"
        },
        {
          "data": {
            "image/png": "[encoded data removed]",
            "text/plain": [
              "<Figure size 640x480 with 1 Axes>"
            ]
          },
          "metadata": {},
          "output_type": "display_data"
        }
      ],
      "source": [
        "first_column = df1['x']\n",
        "first_column.plot(kind = 'line')"
      ]
    },
    {
      "cell_type": "code",
      "execution_count": null,
      "metadata": {
        "id": "07NLhZSPrrq0",
        "outputId": "f4ff4eb1-e5f6-4bcc-8d9c-d50ea9fe38fb"
      },
      "outputs": [
        {
          "data": {
            "text/plain": [
              "<Axes: xlabel='x', ylabel='y'>"
            ]
          },
          "execution_count": 61,
          "metadata": {},
          "output_type": "execute_result"
        },
        {
          "data": {
            "image/png": "[encoded data removed]",
            "text/plain": [
              "<Figure size 640x480 with 1 Axes>"
            ]
          },
          "metadata": {},
          "output_type": "display_data"
        }
      ],
      "source": [
        "df1.plot.scatter(x = 'x', y = 'y', c = 'Red')"
      ]
    },
    {
      "cell_type": "markdown",
      "metadata": {
        "id": "jHwQUEP3rrq1"
      },
      "source": [
        "## Checkpoint\n",
        "\n",
        "Congratulations! you have finished the required task for Week 2. Since you got this empty (without your code and output) notebook by downloading from iLearn, place this notebook (Workshop Week 2.ipynb) into your local copy of your Github repository (e.g. practical-workshops-sonitsingh)and commit your work with a suitable commit message and push your changes back to your Github repository. Show your tutor your updated Github repository to get your checkpoint mark."
      ]
    },
    {
      "cell_type": "code",
      "execution_count": null,
      "metadata": {
        "id": "7nOcSg03rrq1"
      },
      "outputs": [],
      "source": []
    },
    {
      "cell_type": "markdown",
      "metadata": {
        "id": "cA3kvtE9rrq1"
      },
      "source": [
        "# Further Practice\n",
        "\n",
        "If you finish this task you can practice more with pandas data frames by following the examples in the text, section 2.6.  The CSV file that they use in that section is available in the `files` directory of this repository as `educ_figdp_1_Data.csv`.   "
      ]
    },
    {
      "cell_type": "code",
      "execution_count": null,
      "metadata": {
        "id": "swZ0qykLrrq1"
      },
      "outputs": [],
      "source": [
        "edufile = 'files/educ_figdp_1_Data.csv'"
      ]
    }
  ],
  "metadata": {
    "kernelspec": {
      "display_name": "Python 3 (ipykernel)",
      "language": "python",
      "name": "python3"
    },
    "language_info": {
      "codemirror_mode": {
        "name": "ipython",
        "version": 3
      },
      "file_extension": ".py",
      "mimetype": "text/x-python",
      "name": "python",
      "nbconvert_exporter": "python",
      "pygments_lexer": "ipython3",
      "version": "3.11.3"
    },
    "colab": {
      "provenance": [],
      "include_colab_link": true
    }
  },
  "nbformat": 4,
  "nbformat_minor": 0
}